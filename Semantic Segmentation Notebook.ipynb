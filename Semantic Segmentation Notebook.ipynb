{
 "cells": [
  {
   "cell_type": "markdown",
   "metadata": {},
   "source": [
    "# Semantic Segmentation Project"
   ]
  },
  {
   "cell_type": "code",
   "execution_count": 1,
   "metadata": {
    "collapsed": false
   },
   "outputs": [
    {
     "name": "stdout",
     "output_type": "stream",
     "text": [
      "Requirement already satisfied: tqdm in /usr/local/lib/python3.5/dist-packages\r\n",
      "\u001b[33mYou are using pip version 9.0.1, however version 10.0.1 is available.\r\n",
      "You should consider upgrading via the 'pip install --upgrade pip' command.\u001b[0m\r\n"
     ]
    }
   ],
   "source": [
    "!pip install tqdm"
   ]
  },
  {
   "cell_type": "code",
   "execution_count": 2,
   "metadata": {
    "collapsed": false
   },
   "outputs": [
    {
     "name": "stdout",
     "output_type": "stream",
     "text": [
      "TensorFlow Version: 1.0.1\n",
      "Default GPU Device: /gpu:0\n"
     ]
    }
   ],
   "source": [
    "import os.path\n",
    "import tensorflow as tf\n",
    "import helper\n",
    "import warnings\n",
    "from distutils.version import LooseVersion\n",
    "import project_tests as tests\n",
    "\n",
    "\n",
    "# Check TensorFlow Version\n",
    "assert LooseVersion(tf.__version__) >= LooseVersion('1.0'), 'Please use TensorFlow version 1.0 or newer.  You are using {}'.format(tf.__version__)\n",
    "print('TensorFlow Version: {}'.format(tf.__version__))\n",
    "\n",
    "# Check for a GPU\n",
    "if not tf.test.gpu_device_name():\n",
    "    warnings.warn('No GPU found. Please use a GPU to train your neural network.')\n",
    "else:\n",
    "    print('Default GPU Device: {}'.format(tf.test.gpu_device_name()))"
   ]
  },
  {
   "cell_type": "code",
   "execution_count": 3,
   "metadata": {
    "collapsed": false
   },
   "outputs": [
    {
     "name": "stdout",
     "output_type": "stream",
     "text": [
      "Tests Passed\n"
     ]
    }
   ],
   "source": [
    "def load_vgg(sess, vgg_path):\n",
    "    \"\"\"\n",
    "    Load Pretrained VGG Model into TensorFlow.\n",
    "    :param sess: TensorFlow Session\n",
    "    :param vgg_path: Path to vgg folder, containing \"variables/\" and \"saved_model.pb\"\n",
    "    :return: Tuple of Tensors from VGG model (image_input, keep_prob, layer3_out, layer4_out, layer7_out)\n",
    "    \"\"\"\n",
    "    # TODO: Implement function\n",
    "    #   Use tf.saved_model.loader.load to load the model and weights\n",
    "    vgg_tag = 'vgg16'\n",
    "    vgg_input_tensor_name = 'image_input:0'\n",
    "    vgg_keep_prob_tensor_name = 'keep_prob:0'\n",
    "    vgg_layer3_out_tensor_name = 'layer3_out:0'\n",
    "    vgg_layer4_out_tensor_name = 'layer4_out:0'\n",
    "    vgg_layer7_out_tensor_name = 'layer7_out:0'\n",
    "    #Get the saved model\n",
    "    tf.saved_model.loader.load(sess, [vgg_tag], vgg_path)\n",
    "    graph = tf.get_default_graph()\n",
    "    #Get input layer and keep prob parameter\n",
    "    layer0 = graph.get_tensor_by_name(vgg_input_tensor_name)\n",
    "    keep_prob = graph.get_tensor_by_name(vgg_keep_prob_tensor_name)\n",
    "    #Get the rest of the layers\n",
    "    layer3 = graph.get_tensor_by_name(vgg_layer3_out_tensor_name)\n",
    "    layer4 = graph.get_tensor_by_name(vgg_layer4_out_tensor_name)\n",
    "    layer7 = graph.get_tensor_by_name(vgg_layer7_out_tensor_name)\n",
    "\n",
    "    return layer0, keep_prob, layer3, layer4, layer7\n",
    "\n",
    "tests.test_load_vgg(load_vgg, tf)"
   ]
  },
  {
   "cell_type": "code",
   "execution_count": 4,
   "metadata": {
    "collapsed": false
   },
   "outputs": [
    {
     "name": "stdout",
     "output_type": "stream",
     "text": [
      "Tests Passed\n"
     ]
    }
   ],
   "source": [
    "def layers(vgg_layer3_out, vgg_layer4_out, vgg_layer7_out, num_classes):\n",
    "    \"\"\"\n",
    "    Create the layers for a fully convolutional network.  Build skip-layers using the vgg layers.\n",
    "    :param vgg_layer3_out: TF Tensor for VGG Layer 3 output\n",
    "    :param vgg_layer4_out: TF Tensor for VGG Layer 4 output\n",
    "    :param vgg_layer7_out: TF Tensor for VGG Layer 7 output\n",
    "    :param num_classes: Number of classes to classify\n",
    "    :return: The Tensor for the last layer of output\n",
    "    \"\"\"\n",
    "    # TODO: Implement function\n",
    "    weights_initializer_stddev = 1e-2\n",
    "    weights_regularized_l2 = 1e-3\n",
    "    # 1x1 Convolutions to preserve spatial information that would \n",
    "    # be lost if kept the fully connected layers.\n",
    "    conv_1x1_of_7 = tf.layers.conv2d(vgg_layer7_out,\n",
    "                                     num_classes,\n",
    "                                     1, # kernel_size\n",
    "                                     padding = 'same',\n",
    "                                     kernel_initializer = tf.random_normal_initializer(stddev=weights_initializer_stddev),\n",
    "                                     kernel_regularizer= tf.contrib.layers.l2_regularizer(weights_regularized_l2),\n",
    "                                     name='conv_1x1_of_7')\n",
    "    # Upsample deconvolution x 2\n",
    "    first_upsamplex2 = tf.layers.conv2d_transpose(conv_1x1_of_7,\n",
    "                                                  num_classes,\n",
    "                                                  4, # kernel_size\n",
    "                                                  strides= (2, 2),\n",
    "                                                  padding= 'same',\n",
    "                                                  kernel_initializer = tf.random_normal_initializer(stddev=weights_initializer_stddev),\n",
    "                                                  kernel_regularizer= tf.contrib.layers.l2_regularizer(weights_regularized_l2),\n",
    "                                                  name='first_upsamplex2')\n",
    "    conv_1x1_of_4 = tf.layers.conv2d(vgg_layer4_out,\n",
    "                                     num_classes,\n",
    "                                     1, # kernel_size\n",
    "                                     padding = 'same',\n",
    "                                     kernel_initializer = tf.random_normal_initializer(stddev=weights_initializer_stddev),\n",
    "                                     kernel_regularizer= tf.contrib.layers.l2_regularizer(weights_regularized_l2),\n",
    "                                     name='conv_1x1_of_4')\n",
    "    # Adding skip layer.\n",
    "    first_skip = tf.add(first_upsamplex2, conv_1x1_of_4, name='first_skip')\n",
    "    # Upsample deconvolutions x 2.\n",
    "    second_upsamplex2 = tf.layers.conv2d_transpose(first_skip,\n",
    "                                                   num_classes,\n",
    "                                                   4, # kernel_size\n",
    "                                                   strides= (2, 2),\n",
    "                                                   padding= 'same',\n",
    "                                                   kernel_initializer = tf.random_normal_initializer(stddev=weights_initializer_stddev),\n",
    "                                                   kernel_regularizer= tf.contrib.layers.l2_regularizer(weights_regularized_l2),\n",
    "                                                   name='second_upsamplex2')\n",
    "    conv_1x1_of_3 = tf.layers.conv2d(vgg_layer3_out,\n",
    "                                     num_classes,\n",
    "                                     1, # kernel_size\n",
    "                                     padding = 'same',\n",
    "                                     kernel_initializer = tf.random_normal_initializer(stddev=weights_initializer_stddev),\n",
    "                                     kernel_regularizer= tf.contrib.layers.l2_regularizer(weights_regularized_l2),\n",
    "                                     name='conv_1x1_of_3')\n",
    "    # Adding skip layer.\n",
    "    second_skip = tf.add(second_upsamplex2, conv_1x1_of_3, name='second_skip')\n",
    "    # Upsample deconvolution x 8.\n",
    "    third_upsamplex8 = tf.layers.conv2d_transpose(second_skip, num_classes, 16,\n",
    "                                                  strides= (8, 8),\n",
    "                                                  padding= 'same',\n",
    "                                                  kernel_initializer = tf.random_normal_initializer(stddev=weights_initializer_stddev),\n",
    "                                                  kernel_regularizer= tf.contrib.layers.l2_regularizer(weights_regularized_l2),\n",
    "                                                  name='third_upsamplex8')\n",
    "    return third_upsamplex8\n",
    "tests.test_layers(layers)\n"
   ]
  },
  {
   "cell_type": "code",
   "execution_count": 5,
   "metadata": {
    "collapsed": false
   },
   "outputs": [
    {
     "name": "stdout",
     "output_type": "stream",
     "text": [
      "Tests Passed\n"
     ]
    }
   ],
   "source": [
    "def optimize(nn_last_layer, correct_label, learning_rate, num_classes):\n",
    "    \"\"\"\n",
    "    Build the TensorFLow loss and optimizer operations.\n",
    "    :param nn_last_layer: TF Tensor of the last layer in the neural network\n",
    "    :param correct_label: TF Placeholder for the correct label image\n",
    "    :param learning_rate: TF Placeholder for the learning rate\n",
    "    :param num_classes: Number of classes to classify\n",
    "    :return: Tuple of (logits, train_op, cross_entropy_loss)\n",
    "    \"\"\"\n",
    "    # TODO: Implement function\n",
    "    # create logits : 2D tensor where each row represents a pixel and each column a class.\n",
    "    logits = tf.reshape(nn_last_layer, (-1, num_classes))\n",
    "    correct_label = tf.reshape(correct_label, (-1, num_classes))\n",
    "    # create loss function.\n",
    "    cross_entropy_loss = tf.reduce_mean(tf.nn.softmax_cross_entropy_with_logits(logits= logits, labels= correct_label))\n",
    "    # Define optimizer. Adam in this case to have variable learning rate.\n",
    "    optimizer = tf.train.AdamOptimizer(learning_rate= learning_rate)\n",
    "    # Apply optimizer to the loss function.\n",
    "    train_op = optimizer.minimize(cross_entropy_loss)\n",
    "\n",
    "    return logits, train_op, cross_entropy_loss\n",
    "tests.test_optimize(optimize)\n"
   ]
  },
  {
   "cell_type": "code",
   "execution_count": 6,
   "metadata": {
    "collapsed": true
   },
   "outputs": [],
   "source": [
    "import matplotlib.pyplot as plt\n",
    "%matplotlib inline"
   ]
  },
  {
   "cell_type": "code",
   "execution_count": 7,
   "metadata": {
    "collapsed": false
   },
   "outputs": [
    {
     "data": {
      "image/png": "[encoded data removed]",
      "text/plain": [
       "<matplotlib.figure.Figure at 0x7f00c2ecb208>"
      ]
     },
     "metadata": {},
     "output_type": "display_data"
    }
   ],
   "source": [
    "def train_nn(sess, epochs, batch_size, get_batches_fn, train_op, cross_entropy_loss, input_image,\n",
    "             correct_label, keep_prob, learning_rate):\n",
    "    \"\"\"\n",
    "    Train neural network and print out the loss during training.\n",
    "    :param sess: TF Session\n",
    "    :param epochs: Number of epochs\n",
    "    :param batch_size: Batch size\n",
    "    :param get_batches_fn: Function to get batches of training data.  Call using get_batches_fn(batch_size)\n",
    "    :param train_op: TF Operation to train the neural network\n",
    "    :param cross_entropy_loss: TF Tensor for the amount of loss\n",
    "    :param input_image: TF Placeholder for input images\n",
    "    :param correct_label: TF Placeholder for label images\n",
    "    :param keep_prob: TF Placeholder for dropout keep probability\n",
    "    :param learning_rate: TF Placeholder for learning rate\n",
    "    \"\"\"\n",
    "    # TODO: Implement function\n",
    "    sess.run(tf.global_variables_initializer())\n",
    "\n",
    "    print('Starting training... for {} epochs'.format(epochs))\n",
    "    print()\n",
    "    for epoch in range(epochs):\n",
    "        print('Epoch : {}'.format(epoch + 1))\n",
    "        loss_log = []\n",
    "        for image, label in get_batches_fn(batch_size):\n",
    "            _, loss = sess.run([train_op, cross_entropy_loss],\n",
    "                                feed_dict={\n",
    "                                    input_image: image,\n",
    "                                    correct_label: label,\n",
    "                                    keep_prob: 0.5,\n",
    "                                    learning_rate: 0.0009\n",
    "                                })\n",
    "            loss_log.append('{:3f}'.format(loss))\n",
    "        print(loss_log)\n",
    "        plt.plot(loss_log)\n",
    "        print()\n",
    "    print('Training finished')\n",
    "    return None\n",
    "\n",
    "\n",
    "tests.test_train_nn(train_nn)\n"
   ]
  },
  {
   "cell_type": "code",
   "execution_count": 8,
   "metadata": {
    "collapsed": true
   },
   "outputs": [],
   "source": [
    "def run():\n",
    "    num_classes = 2\n",
    "    image_shape = (160, 576)\n",
    "    data_dir = './data'\n",
    "    runs_dir = './runs'\n",
    "    tests.test_for_kitti_dataset(data_dir)\n",
    "\n",
    "    # Download pretrained vgg model\n",
    "    helper.maybe_download_pretrained_vgg(data_dir)\n",
    "\n",
    "    # OPTIONAL: Train and Inference on the cityscapes dataset instead of the Kitti dataset.\n",
    "    # You'll need a GPU with at least 10 teraFLOPS to train on.\n",
    "    #  https://www.cityscapes-dataset.com/\n",
    "\n",
    "    with tf.Session() as sess:\n",
    "        # Path to vgg model\n",
    "        vgg_path = os.path.join(data_dir, 'vgg')\n",
    "        # Create function to get batches\n",
    "        get_batches_fn = helper.gen_batch_function(os.path.join(data_dir, 'data_road/training'), image_shape)\n",
    "\n",
    "        # OPTIONAL: Augment Images for better results\n",
    "        #  https://datascience.stackexchange.com/questions/5224/how-to-prepare-augment-images-for-neural-network\n",
    "\n",
    "        # TODO: Build NN using load_vgg, layers, and optimize function\n",
    "        # Placeholders\n",
    "        correct_label = tf.placeholder(tf.int32, [None, None, None, num_classes], name='correct_label')\n",
    "        learning_rate = tf.placeholder(tf.float32, name='learning_rate')\n",
    "\n",
    "        # Getting layers from vgg.\n",
    "        input_image, keep_prob, layer3_out, layer4_out, layer7_out = load_vgg(sess, vgg_path)\n",
    "\n",
    "        # Creating new layers.\n",
    "        layer_output = layers(layer3_out, layer4_out, layer7_out, num_classes)\n",
    "\n",
    "        # Creating loss and optimizer operations.\n",
    "        logits, train_op, cross_entropy_loss = optimize(layer_output, correct_label, learning_rate, num_classes)\n",
    "        # TODO: Train NN using the train_nn function\n",
    "        epochs = 40 # 6 12 24 \n",
    "        batch_size = 16\n",
    "\n",
    "        saver = tf.train.Saver()\n",
    "\n",
    "        train_nn(sess, epochs, batch_size, get_batches_fn, train_op, cross_entropy_loss, input_image,\n",
    "                 correct_label, keep_prob, learning_rate)\n",
    "        \n",
    "        # TODO: Save inference data using helper.save_inference_samples\n",
    "        helper.save_inference_samples(runs_dir, data_dir, sess, image_shape, logits, keep_prob, input_image)\n",
    "        #  helper.save_inference_samples(runs_dir, data_dir, sess, image_shape, logits, keep_prob, input_image)\n",
    "\n",
    "        # OPTIONAL: Apply the trained model to a video"
   ]
  },
  {
   "cell_type": "code",
   "execution_count": 9,
   "metadata": {
    "collapsed": false
   },
   "outputs": [
    {
     "data": {
      "image/png": "[encoded data removed]",
      "text/plain": [
       "<matplotlib.figure.Figure at 0x7effe23fbcc0>"
      ]
     },
     "metadata": {},
     "output_type": "display_data"
    }
   ],
   "source": [
    "run()"
   ]
  },
  {
   "cell_type": "code",
   "execution_count": null,
   "metadata": {
    "collapsed": true
   },
   "outputs": [],
   "source": []
  }
 ],
 "metadata": {
  "language_info": {
   "codemirror_mode": {
    "name": "ipython",
    "version": 3
   },
   "file_extension": ".py",
   "mimetype": "text/x-python",
   "name": "python",
   "nbconvert_exporter": "python",
   "pygments_lexer": "ipython3",
   "version": "3.5.2"
  }
 },
 "nbformat": 4,
 "nbformat_minor": 2
}
